{
 "cells": [
  {
   "cell_type": "code",
   "execution_count": 1,
   "metadata": {},
   "outputs": [],
   "source": [
    "###############################################\n",
    "# Run this program. A window will be opened.  #\n",
    "# Try with mouse left and right click.        #\n",
    "# Red and Blue color solid circle will appear #\n",
    "# for the left and right click respectively.  #\n",
    "###############################################\n",
    "import cv2\n",
    "import numpy as np\n",
    "\n",
    "################\n",
    "### FUNCTION ###\n",
    "################\n",
    "def draw_circle(event,x,y,flags, param):\n",
    "    # Capturing Left button down click\n",
    "    if event == cv2.EVENT_LBUTTONDOWN:\n",
    "        cv2.circle(img, (x,y), 100,(0,0,255), -1)\n",
    "    elif event == cv2.EVENT_RBUTTONDOWN:\n",
    "        cv2.circle(img, (x,y), 100, (255,0,0), -1)    \n",
    "\n",
    "###########################\n",
    "### Registering events ####\n",
    "###########################\n",
    "cv2.namedWindow(winname='my_image')\n",
    "cv2.setMouseCallback('my_image', draw_circle)\n",
    "\n",
    "#################################\n",
    "### SHOWING IMAGE WITH OPENCV ###\n",
    "#################################\n",
    "img = np.zeros((512,512,3))\n",
    "while True:\n",
    "    cv2.imshow('my_image', img)\n",
    "    if cv2.waitKey(10) & 0XFF == 27:\n",
    "        break\n",
    "cv2.destroyAllWindows()    "
   ]
  }
 ],
 "metadata": {
  "kernelspec": {
   "display_name": "Python 3",
   "language": "python",
   "name": "python3"
  },
  "language_info": {
   "codemirror_mode": {
    "name": "ipython",
    "version": 3
   },
   "file_extension": ".py",
   "mimetype": "text/x-python",
   "name": "python",
   "nbconvert_exporter": "python",
   "pygments_lexer": "ipython3",
   "version": "3.9.5"
  }
 },
 "nbformat": 4,
 "nbformat_minor": 2
}
