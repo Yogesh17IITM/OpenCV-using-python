{
 "cells": [
  {
   "cell_type": "code",
   "execution_count": 2,
   "metadata": {},
   "outputs": [],
   "source": [
    "import cv2\n",
    "import matplotlib.pyplot as plt\n",
    "%matplotlib inline"
   ]
  },
  {
   "cell_type": "markdown",
   "metadata": {},
   "source": [
    "Face detection"
   ]
  },
  {
   "cell_type": "code",
   "execution_count": 3,
   "metadata": {},
   "outputs": [],
   "source": [
    "face_cascade = cv2.CascadeClassifier('Data/haar_cascades/haarcascade_frontalface_default.xml')\n",
    "def detect_face(img):\n",
    "    face_img = img.copy()\n",
    "    face_rect = face_cascade.detectMultiScale(face_img)\n",
    "    \n",
    "    # Create a rectangle over face\n",
    "    for (x,y,w,h) in face_rect:\n",
    "        cv2.rectangle(face_img, (x,y), (x+w, y+h), (255, 255, 255), 2)\n",
    "    \n",
    "    return face_img"
   ]
  },
  {
   "cell_type": "code",
   "execution_count": 4,
   "metadata": {},
   "outputs": [],
   "source": [
    "cap = cv2.VideoCapture(0) # use webcam\n",
    "while True:\n",
    "    ret, frame = cap.read()\n",
    "    frame = detect_face(frame)\n",
    "    cv2.imshow('My face', frame)\n",
    "    \n",
    "    # Capture the 'q' keyboard event for quit\n",
    "    if cv2.waitKey(1) & 0xFF == ord('q'):\n",
    "        break\n",
    "\n",
    "cap.release()\n",
    "cv2.destroyAllWindows()"
   ]
  }
 ],
 "metadata": {
  "kernelspec": {
   "display_name": "Python 3",
   "language": "python",
   "name": "python3"
  },
  "language_info": {
   "codemirror_mode": {
    "name": "ipython",
    "version": 3
   },
   "file_extension": ".py",
   "mimetype": "text/x-python",
   "name": "python",
   "nbconvert_exporter": "python",
   "pygments_lexer": "ipython3",
   "version": "3.9.5"
  }
 },
 "nbformat": 4,
 "nbformat_minor": 2
}
