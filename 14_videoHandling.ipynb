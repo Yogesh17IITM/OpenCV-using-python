{
 "cells": [
  {
   "cell_type": "code",
   "execution_count": 2,
   "metadata": {},
   "outputs": [
    {
     "name": "stdout",
     "output_type": "stream",
     "text": [
      "[SUCCESS] Video file opened\n"
     ]
    }
   ],
   "source": [
    "import cv2\n",
    "import time\n",
    "\n",
    "# Read the Mp4 recorded video\n",
    "videoCapture = cv2.VideoCapture('Data/video.mp4')\n",
    "\n",
    "# validate input\n",
    "if videoCapture.isOpened() == False:\n",
    "    print('[ERROR] FILE NOT FOUND OR USE PROPER CODEC')\n",
    "else:\n",
    "    print('[SUCCESS] Video file opened')"
   ]
  },
  {
   "cell_type": "markdown",
   "metadata": {},
   "source": [
    "Read the video"
   ]
  },
  {
   "cell_type": "code",
   "execution_count": 3,
   "metadata": {},
   "outputs": [],
   "source": [
    "while videoCapture.isOpened():\n",
    "    ret, frame = videoCapture.read()\n",
    "    if ret == True:\n",
    "        fps = videoCapture.get(cv2.CAP_PROP_FPS)\n",
    "        time.sleep(1/fps)   \n",
    "        \n",
    "        # Display the video\n",
    "        cv2.imshow('videoframe', frame)\n",
    "        \n",
    "        # Capture the 'q' keyboard event for quit\n",
    "        if cv2.waitKey(1) & 0xFF == ord('q'):\n",
    "            break\n",
    "    else:\n",
    "        break   # Break once the video is ended\n",
    "\n",
    "# Release the video capture\n",
    "videoCapture.release()\n",
    "\n",
    "# Destroy all the windows\n",
    "cv2.destroyAllWindows()"
   ]
  }
 ],
 "metadata": {
  "kernelspec": {
   "display_name": "Python 3",
   "language": "python",
   "name": "python3"
  },
  "language_info": {
   "codemirror_mode": {
    "name": "ipython",
    "version": 3
   },
   "file_extension": ".py",
   "mimetype": "text/x-python",
   "name": "python",
   "nbconvert_exporter": "python",
   "pygments_lexer": "ipython3",
   "version": "3.9.5"
  }
 },
 "nbformat": 4,
 "nbformat_minor": 2
}
