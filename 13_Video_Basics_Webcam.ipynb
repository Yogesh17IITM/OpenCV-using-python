{
 "cells": [
  {
   "cell_type": "markdown",
   "metadata": {},
   "source": [
    "OpenCV Video Basics with Webcam"
   ]
  },
  {
   "cell_type": "code",
   "execution_count": 5,
   "metadata": {},
   "outputs": [],
   "source": [
    "import cv2\n",
    "capture = cv2.VideoCapture(0)   # '0' -> refers to video capture from camera\n",
    "\n",
    "width = int(capture.get(cv2.CAP_PROP_FRAME_WIDTH))  # convert width/height into integers\n",
    "height = int(capture.get(cv2.CAP_PROP_FRAME_HEIGHT))\n",
    "\n",
    "# Object for writing the video\n",
    "#writer = cv2.VideoWriter('video.mp4', cv2.VideoWriter_fourcc(*'DIVX'), 20,(width, height))\n",
    "\n",
    "while True:\n",
    "    ret, frame = capture.read() # start capturing image from the webcam\n",
    "    gray = cv2.cvtColor(frame, cv2.COLOR_BGR2GRAY)  # converting into grayscale   \n",
    "    \n",
    "    # writer.write(gray)\n",
    "    \n",
    "    cv2.imshow('frame', gray)   #Display the image in a new window\n",
    "    \n",
    "    if cv2.waitKey(1) & 0xFF == ord('q'):   # wait for 1 sec and if key 'q' is pressed, then close the window.\n",
    "        break\n",
    "    \n",
    "#writer.release()\n",
    "capture.release()   # stop capturing the image from the webcam\n",
    "cv2.destroyAllWindows() # destroy all windows"
   ]
  }
 ],
 "metadata": {
  "kernelspec": {
   "display_name": "Python 3",
   "language": "python",
   "name": "python3"
  },
  "language_info": {
   "codemirror_mode": {
    "name": "ipython",
    "version": 3
   },
   "file_extension": ".py",
   "mimetype": "text/x-python",
   "name": "python",
   "nbconvert_exporter": "python",
   "pygments_lexer": "ipython3",
   "version": "3.9.5"
  }
 },
 "nbformat": 4,
 "nbformat_minor": 2
}
