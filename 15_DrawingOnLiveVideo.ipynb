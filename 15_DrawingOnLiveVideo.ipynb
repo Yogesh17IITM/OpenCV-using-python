{
 "cells": [
  {
   "cell_type": "code",
   "execution_count": 2,
   "metadata": {},
   "outputs": [],
   "source": [
    "import cv2\n",
    "capture = cv2.VideoCapture(0)   # capture from webcam\n",
    "\n",
    "width = int(capture.get(cv2.CAP_PROP_FRAME_WIDTH))\n",
    "height = int(capture.get(cv2.CAP_PROP_FRAME_HEIGHT))"
   ]
  },
  {
   "cell_type": "code",
   "execution_count": 3,
   "metadata": {},
   "outputs": [
    {
     "name": "stdout",
     "output_type": "stream",
     "text": [
      "1.5 , 1\n"
     ]
    }
   ],
   "source": [
    "temp1 = 3 / 2\n",
    "temp2 = 3//2\n",
    "print(temp1, \",\", temp2)"
   ]
  },
  {
   "cell_type": "markdown",
   "metadata": {},
   "source": [
    "Start coordinates for Rectangle"
   ]
  },
  {
   "cell_type": "code",
   "execution_count": 4,
   "metadata": {},
   "outputs": [
    {
     "name": "stdout",
     "output_type": "stream",
     "text": [
      "320 240\n"
     ]
    }
   ],
   "source": [
    "x_start = width // 2    # '//' will return in integer form\n",
    "y_start = height //2 \n",
    "print(x_start, y_start)"
   ]
  },
  {
   "cell_type": "markdown",
   "metadata": {},
   "source": [
    "End Coordinates for Rectangle"
   ]
  },
  {
   "cell_type": "code",
   "execution_count": 5,
   "metadata": {},
   "outputs": [
    {
     "name": "stdout",
     "output_type": "stream",
     "text": [
      "480 360\n"
     ]
    }
   ],
   "source": [
    "x_end = x_start + (width // 4)\n",
    "y_end = y_start + (height // 4)\n",
    "print(x_end, y_end)"
   ]
  },
  {
   "cell_type": "code",
   "execution_count": 6,
   "metadata": {},
   "outputs": [],
   "source": [
    "while True:\n",
    "    ret, frame = capture.read()\n",
    "    if ret == True:\n",
    "        cv2.rectangle(frame, (x_start, y_start), (x_end, y_end), color=(0,0,255), thickness=2)\n",
    "        cv2.imshow('webcam', frame)\n",
    "        \n",
    "        if cv2.waitKey(1) & 0xFF == ord('q'):\n",
    "            break\n",
    "        \n",
    "capture.release()\n",
    "cv2.destroyAllWindows()"
   ]
  },
  {
   "cell_type": "markdown",
   "metadata": {},
   "source": [
    "Let us interactively draw a rectangle on live webcam"
   ]
  },
  {
   "cell_type": "code",
   "execution_count": 8,
   "metadata": {},
   "outputs": [],
   "source": [
    "cap = cv2.VideoCapture(0)\n",
    "\n",
    "### Call back function\n",
    "def DrawRect(event, x,y,flags, param):\n",
    "    global startPt, endPt, topLeftClicked, bottomRightClicked\n",
    "    if event == cv2.EVENT_LBUTTONDOWN:\n",
    "        # Resetting the values        \n",
    "        if topLeftClicked and bottomRightClicked:\n",
    "            startPt = (0,0)\n",
    "            endPt = (0,0)\n",
    "            topLeftClicked = False\n",
    "            bottomRightClicked = False\n",
    "            \n",
    "        # Start point \n",
    "        if topLeftClicked == False:\n",
    "            startPt = (x,y)\n",
    "            topLeftClicked = True\n",
    "        # End point\n",
    "        elif bottomRightClicked == False:\n",
    "            endPt = (x,y)    \n",
    "            bottomRightClicked = True        \n",
    "\n",
    "### Global variables\n",
    "startPt = (0,0)\n",
    "endPt = (0,0)\n",
    "topLeftClicked = False\n",
    "bottomRightClicked = False\n",
    "\n",
    "### Connect to the callback\n",
    "cv2.namedWindow('webcam')\n",
    "cv2.setMouseCallback('webcam', DrawRect)\n",
    "\n",
    "### Main logic\n",
    "while True:\n",
    "    ret, frame = cap.read()\n",
    "    if ret == True:                \n",
    "        ## Draw based on the global variables\n",
    "        if topLeftClicked:\n",
    "            cv2.circle(frame, center=startPt, radius=5, color=(255,0,0), thickness=-1)\n",
    "            \n",
    "        if topLeftClicked and bottomRightClicked:\n",
    "            cv2.rectangle(frame, startPt, endPt, (0,255,0), thickness=4)\n",
    "            \n",
    "        cv2.imshow('webcam', frame)\n",
    "        \n",
    "        if cv2.waitKey(1) & 0xFF == ord('q'):\n",
    "            break\n",
    "        \n",
    "cap.release()\n",
    "cv2.destroyAllWindows()\n",
    "            "
   ]
  }
 ],
 "metadata": {
  "kernelspec": {
   "display_name": "Python 3",
   "language": "python",
   "name": "python3"
  },
  "language_info": {
   "codemirror_mode": {
    "name": "ipython",
    "version": 3
   },
   "file_extension": ".py",
   "mimetype": "text/x-python",
   "name": "python",
   "nbconvert_exporter": "python",
   "pygments_lexer": "ipython3",
   "version": "3.9.5"
  }
 },
 "nbformat": 4,
 "nbformat_minor": 2
}
